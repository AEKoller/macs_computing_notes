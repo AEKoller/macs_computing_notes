{
 "cells": [
  {
   "cell_type": "markdown",
   "metadata": {},
   "source": [
    "# Functions\n"
   ]
  },
  {
   "cell_type": "markdown",
   "metadata": {},
   "source": [
    "# Coin Flip Example\n",
    "how many times do I need to flip a coin to get 5 heads in a row?"
   ]
  },
  {
   "cell_type": "code",
   "execution_count": null,
   "metadata": {},
   "outputs": [],
   "source": [
    "# Coin Flip Example\n",
    "import random "
   ]
  },
  {
   "cell_type": "code",
   "execution_count": null,
   "metadata": {},
   "outputs": [],
   "source": [
    "random.seed(0)\n",
    "random.random()"
   ]
  },
  {
   "cell_type": "code",
   "execution_count": null,
   "metadata": {},
   "outputs": [],
   "source": [
    "random.seed(0)\n",
    "for i in range(3):\n",
    "    print(random.random())"
   ]
  },
  {
   "cell_type": "code",
   "execution_count": 32,
   "metadata": {},
   "outputs": [
    {
     "name": "stdout",
     "output_type": "stream",
     "text": [
      "137\n",
      "5\n"
     ]
    }
   ],
   "source": [
    "random.seed(0)\n",
    "consecutive_heads = 0\n",
    "total_flips = 0\n",
    "target = 5\n",
    "\n",
    "while consecutive_heads < target:\n",
    "    flip = random.random()\n",
    "    if flip < 0.5:\n",
    "        consecutive_heads += 1\n",
    "    else:\n",
    "       consecutive_heads = 0\n",
    "    total_flips += 1\n",
    "       \n",
    "\n",
    "print(total_flips)\n",
    "print(consecutive_heads)\n"
   ]
  },
  {
   "cell_type": "code",
   "execution_count": null,
   "metadata": {},
   "outputs": [],
   "source": [
    "random.seed(0)\n",
    "consecutive_heads = 0\n",
    "total_flips = 0\n",
    "target = 5\n",
    "\n",
    "sim_results = []\n",
    "n_trials = 100\n",
    "\n",
    "for i in range(n_trials):\n",
    "    consecutive_heads = 0\n",
    "    total_flips = 0\n",
    "    target = 5\n",
    "\n",
    "\n",
    "    while consecutive_heads < target:\n",
    "        flip = random.random()\n",
    "        if flip < 0.5:\n",
    "            consecutive_heads += 1\n",
    "        else:\n",
    "            consecutive_heads = 0\n",
    "        total_flips += 1\n",
    "    sim_results.append(total_flips)\n",
    "\n",
    "\n",
    "print(total_flips)\n",
    "print(consecutive_heads)"
   ]
  },
  {
   "cell_type": "code",
   "execution_count": 38,
   "metadata": {},
   "outputs": [
    {
     "name": "stdout",
     "output_type": "stream",
     "text": [
      "8\n",
      "4\n",
      "4\n"
     ]
    },
    {
     "name": "stdout",
     "output_type": "stream",
     "text": [
      "\u001b[0;31mSignature:\u001b[0m \u001b[0mf\u001b[0m\u001b[0;34m(\u001b[0m\u001b[0mx\u001b[0m\u001b[0;34m,\u001b[0m \u001b[0mz\u001b[0m\u001b[0;34m)\u001b[0m\u001b[0;34m\u001b[0m\u001b[0;34m\u001b[0m\u001b[0m\n",
      "\u001b[0;31mDocstring:\u001b[0m\n",
      "this is called a docstring. It's used to describe a function.\n",
      "this functions solves the equation x^2 +x+z\n",
      "input: x (float or int), z(float or int)\n",
      "returns: solutions to the equation (float or int)\n",
      "\u001b[0;31mFile:\u001b[0m      /var/folders/2j/3sx5nt8j6z50m94mxgx048hr0000gn/T/ipykernel_47415/1052554800.py\n",
      "\u001b[0;31mType:\u001b[0m      function"
     ]
    }
   ],
   "source": [
    "def f(x, z):\n",
    "    '''\n",
    "    this is called a docstring. It's used to describe a function.\n",
    "    this functions solves the equation x^2 +x+z\n",
    "    input: x (float or int), z(float or int)\n",
    "    returns: solutions to the equation (float or int)\n",
    "\n",
    "    '''\n",
    "    rv = x**2 + x + z\n",
    "    return rv\n",
    "\n",
    "print(f(x=2, z=2))\n",
    "print(f(1, 2))\n",
    "# cannot do this:\n",
    "# print(f(x = 1, 2))\n",
    "# but can do this:\n",
    "print(f(1, z = 2))\n",
    "\n",
    "#we can query the function by calling the function and then adding a \"?\". This will return\n",
    "# the docstring so we know what's happening within the function \n",
    "f?"
   ]
  },
  {
   "cell_type": "markdown",
   "metadata": {},
   "source": [
    "# Abstraction via Functions\n",
    "It will be a lot easier to understand your code if you've defined everything as a function. You can also use it when you need to reuse code over and over again. It is also possible to test solution for a task in isolation \n",
    "\n",
    "#Writing\n",
    "Any python file that contains a function is effectively a module. When we define a module, we can import in functions from module. In other words, we can import a function from another python file. We just need to import the file name within the current python file. \n",
    "\n",
    "If using Jupyter Notebook, we need to restart the notebook to reuse imported modules\n",
    "this can be circumvented by adding the following code to the top of the file so that the module reloads itself:\n",
    "\n",
    "'%load_ext autoreload'\n",
    "'%autoreload 2'"
   ]
  },
  {
   "cell_type": "code",
   "execution_count": 37,
   "metadata": {},
   "outputs": [
    {
     "name": "stdout",
     "output_type": "stream",
     "text": [
      "\u001b[0;31mSignature:\u001b[0m \u001b[0mf\u001b[0m\u001b[0;34m(\u001b[0m\u001b[0mx\u001b[0m\u001b[0;34m,\u001b[0m \u001b[0mz\u001b[0m\u001b[0;34m)\u001b[0m\u001b[0;34m\u001b[0m\u001b[0;34m\u001b[0m\u001b[0m\n",
      "\u001b[0;31mDocstring:\u001b[0m <no docstring>\n",
      "\u001b[0;31mFile:\u001b[0m      /var/folders/2j/3sx5nt8j6z50m94mxgx048hr0000gn/T/ipykernel_47415/3336498220.py\n",
      "\u001b[0;31mType:\u001b[0m      function"
     ]
    }
   ],
   "source": [
    "# what is this?\n",
    "# This will only execute on the terminal\n",
    "if __name__ == \"__main__\":\n",
    "    x = float(input(\"Enter a value for x: \"))\n",
    "    z = float(input(\"Enter a value for z: \"))\n",
    "    print(\"Result for input x={}, z={}. Output: \".format(x,z))\n",
    "    print(f(x, z))"
   ]
  }
 ],
 "metadata": {
  "kernelspec": {
   "display_name": "myenv",
   "language": "python",
   "name": "python3"
  },
  "language_info": {
   "codemirror_mode": {
    "name": "ipython",
    "version": 3
   },
   "file_extension": ".py",
   "mimetype": "text/x-python",
   "name": "python",
   "nbconvert_exporter": "python",
   "pygments_lexer": "ipython3",
   "version": "3.9.19"
  }
 },
 "nbformat": 4,
 "nbformat_minor": 2
}
